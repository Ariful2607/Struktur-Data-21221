{
 "cells": [
  {
   "cell_type": "code",
   "execution_count": 5,
   "source": [
    "a = [1,3,5,7,9]\r\n",
    "#print(a)\r\n",
    "print(a[2:3]) #2 <= a < 4"
   ],
   "outputs": [
    {
     "output_type": "stream",
     "name": "stdout",
     "text": [
      "[5]\n"
     ]
    }
   ],
   "metadata": {}
  },
  {
   "cell_type": "code",
   "execution_count": 9,
   "source": [
    "b = [[1, 3, 5, 7, 9], [2, 4, 6, 8, 10]]\r\n",
    "#print (b)\r\n",
    "#print(b[1])\r\n",
    "print(b[1][2:4]) "
   ],
   "outputs": [
    {
     "output_type": "stream",
     "name": "stdout",
     "text": [
      "[6, 8]\n"
     ]
    }
   ],
   "metadata": {}
  },
  {
   "cell_type": "code",
   "execution_count": 10,
   "source": [
    "a = [1,3,5,7,9] \r\n",
    "b = [3,5,6,7,9]\r\n",
    "c = a + b\r\n",
    "print (c)\r\n"
   ],
   "outputs": [
    {
     "output_type": "stream",
     "name": "stdout",
     "text": [
      "[1, 3, 5, 7, 9, 3, 5, 6, 7, 9]\n"
     ]
    }
   ],
   "metadata": {}
  }
 ],
 "metadata": {
  "kernelspec": {
   "name": "python3",
   "display_name": "Python 3.8.8 64-bit ('base': conda)"
  },
  "language_info": {
   "codemirror_mode": {
    "name": "ipython",
    "version": 3
   },
   "file_extension": ".py",
   "mimetype": "text/x-python",
   "name": "python",
   "nbconvert_exporter": "python",
   "pygments_lexer": "ipython3",
   "version": "3.8.8"
  },
  "orig_nbformat": 2,
  "interpreter": {
   "hash": "dcf12bb74d419172c684f6deea540a0df5988ff30a117def4ba621da6d7b5307"
  }
 },
 "nbformat": 4,
 "nbformat_minor": 2
}