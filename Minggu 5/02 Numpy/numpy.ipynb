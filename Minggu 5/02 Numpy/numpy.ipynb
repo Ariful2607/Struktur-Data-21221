{
 "cells": [
  {
   "cell_type": "code",
   "execution_count": 5,
   "source": [
    "import numpy\r\n",
    "l = [[1, 2, 3], [3, 6, 9], [2, 4, 6]]  # create a list \r\n",
    "a = numpy.array(l)  # convert a list to an array \r\n",
    "# print(a) \r\n",
    "# a.shape \r\n",
    "# print(a.dtype)  # get type of an array \r\n",
    "# or directly as matrix\r\n",
    "# M = numpy.array([[1, 2], [3, 4]])\r\n",
    "# M.shape\r\n",
    "# M.dtype"
   ],
   "outputs": [
    {
     "output_type": "execute_result",
     "data": {
      "text/plain": [
       "(2, 2)"
      ]
     },
     "metadata": {},
     "execution_count": 5
    }
   ],
   "metadata": {}
  },
  {
   "cell_type": "code",
   "execution_count": 16,
   "source": [
    "print(a) \r\n",
    "# print(a[0])  # this is just like a list of lists \r\n",
    "# print(a[0,2])  # arrays can be given comma separated indices \r\n",
    "# print(a[2,1:3])  # and slices \r\n",
    "print(a[:,1]) "
   ],
   "outputs": [
    {
     "output_type": "stream",
     "name": "stdout",
     "text": [
      "[[1 2 3]\n",
      " [3 6 9]\n",
      " [2 4 6]]\n",
      "[2 6 4]\n"
     ]
    }
   ],
   "metadata": {}
  }
 ],
 "metadata": {
  "kernelspec": {
   "name": "python3",
   "display_name": "Python 3.8.8 64-bit ('base': conda)"
  },
  "language_info": {
   "codemirror_mode": {
    "name": "ipython",
    "version": 3
   },
   "file_extension": ".py",
   "mimetype": "text/x-python",
   "name": "python",
   "nbconvert_exporter": "python",
   "pygments_lexer": "ipython3",
   "version": "3.8.8"
  },
  "orig_nbformat": 2,
  "interpreter": {
   "hash": "dcf12bb74d419172c684f6deea540a0df5988ff30a117def4ba621da6d7b5307"
  }
 },
 "nbformat": 4,
 "nbformat_minor": 2
}